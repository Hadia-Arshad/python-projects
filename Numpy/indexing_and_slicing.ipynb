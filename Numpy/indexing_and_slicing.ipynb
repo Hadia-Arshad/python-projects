{
 "cells": [
  {
   "cell_type": "code",
   "execution_count": 6,
   "id": "0a251027-1ed1-422b-9a59-55357a52e41c",
   "metadata": {},
   "outputs": [
    {
     "data": {
      "text/plain": [
       "array([[ 1,  2,  3],\n",
       "       [ 4,  5,  6],\n",
       "       [ 7,  8,  9],\n",
       "       [10, 11, 12]])"
      ]
     },
     "execution_count": 6,
     "metadata": {},
     "output_type": "execute_result"
    }
   ],
   "source": [
    "import numpy as np\n",
    "arr = np.array([[1, 2, 3], [4, 5, 6], [7, 8, 9], [10, 11, 12]])\n",
    "arr"
   ]
  },
  {
   "cell_type": "code",
   "execution_count": 7,
   "id": "f41b337f-1b9c-4125-b649-6e5b480aacd9",
   "metadata": {},
   "outputs": [
    {
     "data": {
      "text/plain": [
       "array([ 1,  2,  3,  4,  5,  6,  7,  8,  9, 10, 11, 12])"
      ]
     },
     "execution_count": 7,
     "metadata": {},
     "output_type": "execute_result"
    }
   ],
   "source": [
    "flat = arr.flatten()# to make it 1D\n",
    "flat"
   ]
  },
  {
   "cell_type": "code",
   "execution_count": 8,
   "id": "82b4f8c6-69f4-4f23-8e43-9a132d5ac320",
   "metadata": {},
   "outputs": [
    {
     "data": {
      "text/plain": [
       "1"
      ]
     },
     "execution_count": 8,
     "metadata": {},
     "output_type": "execute_result"
    }
   ],
   "source": [
    "flat[0] #indexing is same like python list"
   ]
  },
  {
   "cell_type": "code",
   "execution_count": 9,
   "id": "3e8fceb7-aaf8-49a7-97dc-b4ad1ff1867a",
   "metadata": {},
   "outputs": [
    {
     "data": {
      "text/plain": [
       "2"
      ]
     },
     "execution_count": 9,
     "metadata": {},
     "output_type": "execute_result"
    }
   ],
   "source": [
    "flat[1]"
   ]
  },
  {
   "cell_type": "code",
   "execution_count": 11,
   "id": "9d8076da-007b-40f4-bb3a-277e4c1a583e",
   "metadata": {},
   "outputs": [
    {
     "data": {
      "text/plain": [
       "array([4, 5, 6])"
      ]
     },
     "execution_count": 11,
     "metadata": {},
     "output_type": "execute_result"
    }
   ],
   "source": [
    "flat[3: 6]"
   ]
  },
  {
   "cell_type": "code",
   "execution_count": 12,
   "id": "a2404c76-e892-4dc6-88c7-52d33caef060",
   "metadata": {},
   "outputs": [
    {
     "data": {
      "text/plain": [
       "array([1, 2, 3, 4, 5])"
      ]
     },
     "execution_count": 12,
     "metadata": {},
     "output_type": "execute_result"
    }
   ],
   "source": [
    "flat[:5] #same as flat[0:5]"
   ]
  },
  {
   "cell_type": "code",
   "execution_count": 14,
   "id": "cb45d428-5052-49f5-9783-e1f83a26eaf9",
   "metadata": {},
   "outputs": [
    {
     "data": {
      "text/plain": [
       "array([ 4,  5,  6,  7,  8,  9, 10, 11, 12])"
      ]
     },
     "execution_count": 14,
     "metadata": {},
     "output_type": "execute_result"
    }
   ],
   "source": [
    "flat[3:]# same as flat[3:13]"
   ]
  },
  {
   "cell_type": "code",
   "execution_count": 15,
   "id": "e40e247e-3ba1-4c8a-8495-986bb23f82e4",
   "metadata": {},
   "outputs": [
    {
     "data": {
      "text/plain": [
       "array([ 4,  5,  6,  7,  8,  9, 10, 11, 12])"
      ]
     },
     "execution_count": 15,
     "metadata": {},
     "output_type": "execute_result"
    }
   ],
   "source": [
    "flat[3:13]"
   ]
  },
  {
   "cell_type": "code",
   "execution_count": 16,
   "id": "823635de-6e8e-426a-b372-989542fa6ac4",
   "metadata": {},
   "outputs": [
    {
     "data": {
      "text/plain": [
       "array([ 1,  3,  5,  7,  9, 11])"
      ]
     },
     "execution_count": 16,
     "metadata": {},
     "output_type": "execute_result"
    }
   ],
   "source": [
    "flat[::2] # gives every second element of list"
   ]
  },
  {
   "cell_type": "markdown",
   "id": "2683ac2b-7a97-4127-bed9-3e1adbf5c26c",
   "metadata": {},
   "source": [
    "slicing returns a view, not a copy! changes affect the original array but in python list changes does not effect the original list"
   ]
  },
  {
   "cell_type": "code",
   "execution_count": 17,
   "id": "46e54bc9-e024-4061-9a5d-a989e9342392",
   "metadata": {},
   "outputs": [
    {
     "data": {
      "text/plain": [
       "array([ 1,  2,  3,  4,  5,  6,  7,  8,  9, 10, 11, 12])"
      ]
     },
     "execution_count": 17,
     "metadata": {},
     "output_type": "execute_result"
    }
   ],
   "source": [
    "flat"
   ]
  },
  {
   "cell_type": "code",
   "execution_count": 20,
   "id": "0c249fa7-5033-40ce-8ef7-4dd4ada4545b",
   "metadata": {},
   "outputs": [
    {
     "data": {
      "text/plain": [
       "array([4, 5, 6, 7])"
      ]
     },
     "execution_count": 20,
     "metadata": {},
     "output_type": "execute_result"
    }
   ],
   "source": [
    "b = flat[3: 7]\n",
    "b"
   ]
  },
  {
   "cell_type": "code",
   "execution_count": 22,
   "id": "f865dbb3-6c23-4b8e-aa56-dee5d10f7403",
   "metadata": {},
   "outputs": [
    {
     "data": {
      "text/plain": [
       "array([4444,    5,    6,    7])"
      ]
     },
     "execution_count": 22,
     "metadata": {},
     "output_type": "execute_result"
    }
   ],
   "source": [
    "b[0] = 4444\n",
    "b"
   ]
  },
  {
   "cell_type": "code",
   "execution_count": 23,
   "id": "f602968e-0845-4e20-b821-a337d4e50105",
   "metadata": {},
   "outputs": [
    {
     "data": {
      "text/plain": [
       "array([   1,    2,    3, 4444,    5,    6,    7,    8,    9,   10,   11,\n",
       "         12])"
      ]
     },
     "execution_count": 23,
     "metadata": {},
     "output_type": "execute_result"
    }
   ],
   "source": [
    "flat # changes also occur in original array"
   ]
  },
  {
   "cell_type": "code",
   "execution_count": 25,
   "id": "5e8158ff-0d5d-4aaf-a353-4bf701eef6b7",
   "metadata": {},
   "outputs": [
    {
     "data": {
      "text/plain": [
       "array([4444,    5,    6,    7])"
      ]
     },
     "execution_count": 25,
     "metadata": {},
     "output_type": "execute_result"
    }
   ],
   "source": [
    "b = flat[3:7].copy() # this is not slicing because we are using copy method\n",
    "b"
   ]
  },
  {
   "cell_type": "code",
   "execution_count": 26,
   "id": "84e62903-e315-4b93-85ac-27b827592ed7",
   "metadata": {},
   "outputs": [
    {
     "data": {
      "text/plain": [
       "array([54,  2, 34])"
      ]
     },
     "execution_count": 26,
     "metadata": {},
     "output_type": "execute_result"
    }
   ],
   "source": [
    "# fancy indexing \n",
    "arr = np.array([1, 54, 23, 55, 2, 3, 34, 5, 6])\n",
    "arr[[1, 4, 6]] # give elements of just these indices inside the list"
   ]
  },
  {
   "cell_type": "code",
   "execution_count": 28,
   "id": "6645277f-5e11-4c27-991f-f7574c764d7c",
   "metadata": {},
   "outputs": [
    {
     "data": {
      "text/plain": [
       "array([54, 55, 34])"
      ]
     },
     "execution_count": 28,
     "metadata": {},
     "output_type": "execute_result"
    }
   ],
   "source": [
    "#Boolean masking\n",
    "arr = np.array([1, 54, 23, 55, 2, 3, 34, 5, 6])\n",
    "arr[arr>3] #condition: values in array greater than 3"
   ]
  },
  {
   "cell_type": "code",
   "execution_count": 30,
   "id": "744eed8f-aa29-4c40-a836-0eb10143be35",
   "metadata": {},
   "outputs": [
    {
     "data": {
      "text/plain": [
       "array([54, 55, 34])"
      ]
     },
     "execution_count": 30,
     "metadata": {},
     "output_type": "execute_result"
    }
   ],
   "source": [
    "arr[arr>23] #condition: values in array greater than 23"
   ]
  },
  {
   "cell_type": "code",
   "execution_count": 31,
   "id": "62539b1f-8a5b-4276-a2ea-671a07bf1c3f",
   "metadata": {},
   "outputs": [],
   "source": [
    "# this is a very powerfull way to filter large data set"
   ]
  },
  {
   "cell_type": "markdown",
   "id": "dc482684-86a3-4218-b718-c9ba37370901",
   "metadata": {},
   "source": [
    "practice problems "
   ]
  },
  {
   "cell_type": "code",
   "execution_count": 36,
   "id": "70b63505-baef-41c8-ad3b-a0fd24fc9e08",
   "metadata": {},
   "outputs": [
    {
     "data": {
      "text/plain": [
       "(3, 3)"
      ]
     },
     "execution_count": 36,
     "metadata": {},
     "output_type": "execute_result"
    }
   ],
   "source": [
    "# problem 1 Create a 3×3 array filled with random numbers and print its shape.\n",
    "arr = np.array([[1, 2, 3], [4, 5, 6], [7, 8, 9]])\n",
    "arr.shape"
   ]
  },
  {
   "cell_type": "code",
   "execution_count": 37,
   "id": "4f874483-35fe-47b4-a78e-390ee1b89afa",
   "metadata": {},
   "outputs": [
    {
     "data": {
      "text/plain": [
       "array([1.1, 2.2, 3.3])"
      ]
     },
     "execution_count": 37,
     "metadata": {},
     "output_type": "execute_result"
    }
   ],
   "source": [
    "# problem 2 Convert an array of floats [1.1, 2.2, 3.3] into integers.\n",
    "arr1 = np.array([1.1, 2.2, 3.3],)\n",
    "arr1"
   ]
  },
  {
   "cell_type": "code",
   "execution_count": 39,
   "id": "04884bc8-be61-4052-a822-5348541f786e",
   "metadata": {},
   "outputs": [
    {
     "data": {
      "text/plain": [
       "array([1, 2, 3])"
      ]
     },
     "execution_count": 39,
     "metadata": {},
     "output_type": "execute_result"
    }
   ],
   "source": [
    "arr1.astype(np.int32)"
   ]
  },
  {
   "cell_type": "code",
   "execution_count": 42,
   "id": "5232d619-2580-4878-8619-87f3197d1237",
   "metadata": {},
   "outputs": [
    {
     "data": {
      "text/plain": [
       "array([2, 4, 6])"
      ]
     },
     "execution_count": 42,
     "metadata": {},
     "output_type": "execute_result"
    }
   ],
   "source": [
    "#problem 3 Use fancy indexing to extract even numbers from [1, 2, 3, 4, 5, 6].\n",
    "arr2 = np.array([1, 2, 3, 4, 5, 6])\n",
    "idx = [1, 3, 5,]\n",
    "arr2[idx]"
   ]
  },
  {
   "cell_type": "code",
   "execution_count": 49,
   "id": "8429e966-8866-40ed-aca6-f19852acc9dd",
   "metadata": {},
   "outputs": [
    {
     "data": {
      "text/plain": [
       "array([[1, 2, 3],\n",
       "       [4, 5, 6],\n",
       "       [7, 8, 9]])"
      ]
     },
     "execution_count": 49,
     "metadata": {},
     "output_type": "execute_result"
    }
   ],
   "source": [
    "# problem 4 Reshape a 1D array of size 9 into a 3×3 matrix.\n",
    "arr4 = np.array([1, 2, 3, 4, 5, 6, 7, 8, 9])\n",
    "arr.reshape(3, 3)"
   ]
  },
  {
   "cell_type": "code",
   "execution_count": 52,
   "id": "08e15726-d904-43a7-8170-a9ce8a28b5cf",
   "metadata": {},
   "outputs": [
    {
     "data": {
      "text/plain": [
       "array([55, 66, 70, 99])"
      ]
     },
     "execution_count": 52,
     "metadata": {},
     "output_type": "execute_result"
    }
   ],
   "source": [
    "#problem 5 Use boolean masking to filter numbers greater than 50 in an array.\n",
    "arr5 = np.array([1, 14, 16, 55, 66, 70, 99])\n",
    "arr5[arr5>50]"
   ]
  },
  {
   "cell_type": "code",
   "execution_count": 54,
   "id": "2f851412-a3f5-4840-8abc-8c3eb96f5f71",
   "metadata": {},
   "outputs": [
    {
     "data": {
      "text/plain": [
       "array([[1., 0., 0., 0., 0.],\n",
       "       [0., 1., 0., 0., 0.],\n",
       "       [0., 0., 1., 0., 0.],\n",
       "       [0., 0., 0., 1., 0.],\n",
       "       [0., 0., 0., 0., 1.]])"
      ]
     },
     "execution_count": 54,
     "metadata": {},
     "output_type": "execute_result"
    }
   ],
   "source": [
    "# problem 6 Create a 5×5 identity matrix using NumPy.\n",
    "arr6 = np.eye(5)\n",
    "arr6"
   ]
  },
  {
   "cell_type": "code",
   "execution_count": 65,
   "id": "3f555941-8e99-4706-a896-e3179d843916",
   "metadata": {},
   "outputs": [
    {
     "name": "stdout",
     "output_type": "stream",
     "text": [
      "[10 11 12 13 14 15 16 17 18 19 20 21 22 23 24 25 26 27 28 29]\n",
      "[12 15 18 21 24 27]\n",
      "6\n"
     ]
    }
   ],
   "source": [
    "# problem 7 Generate a 1D NumPy array of 20 random integers between 10 and 99, and count how many are divisible by 3.\n",
    "arr7 = np.arange(10, 100)\n",
    "arr20 = arr7[:20]\n",
    "div_by_3 = arr20%3 ==0\n",
    "count = np.sum(div_by_3)\n",
    "print(arr20)\n",
    "print(arr20[div_by_3])\n",
    "print(count)"
   ]
  }
 ],
 "metadata": {
  "kernelspec": {
   "display_name": "Python [conda env:base] *",
   "language": "python",
   "name": "conda-base-py"
  },
  "language_info": {
   "codemirror_mode": {
    "name": "ipython",
    "version": 3
   },
   "file_extension": ".py",
   "mimetype": "text/x-python",
   "name": "python",
   "nbconvert_exporter": "python",
   "pygments_lexer": "ipython3",
   "version": "3.12.7"
  }
 },
 "nbformat": 4,
 "nbformat_minor": 5
}
