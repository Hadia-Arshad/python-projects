{
 "cells": [
  {
   "cell_type": "raw",
   "id": "e70e6eed-b585-405d-9a37-df55c8ae88a9",
   "metadata": {},
   "source": [
    "#Why use NumPy\n",
    "#Python lists are flexible but slow for numerical computing because they:\n",
    "\n",
    "#Store elements as pointers instead of a continuous block of memory.\n",
    "Lack vectorized operations, relying on loops instead.\n",
    "Have significant overhead due to dynamic typing.\n",
    "NumPy's Superpowers:\n",
    "Faster than Python lists (C-optimized backend)\n",
    "Uses less memory (efficient storage)\n",
    "Supports vectorized operations (no explicit loops needed)\n",
    "Has built-in mathematical functions\n"
   ]
  },
  {
   "cell_type": "code",
   "execution_count": 10,
   "id": "e4ec60e2-9e0b-483b-a768-b879b2151c17",
   "metadata": {},
   "outputs": [
    {
     "name": "stdout",
     "output_type": "stream",
     "text": [
      "[0, 2, 4, 6, 8, 10, 12, 14, 16, 18]\n",
      "1.3564512729644775\n"
     ]
    }
   ],
   "source": [
    "# by using python lists\n",
    "import numpy as np\n",
    "import time\n",
    "size = 1_000_000_0\n",
    "l1 = list(range(size))\n",
    "l2 = list(range(size))\n",
    "start = time.time()\n",
    "result = [x+y for x,y in zip(l1, l2)] #list comprehension \n",
    "end = time.time()\n",
    "print(result[0:10])\n",
    "print(end - start)\n",
    "\n"
   ]
  },
  {
   "cell_type": "code",
   "execution_count": 11,
   "id": "3a9cee04-d594-412d-9e5b-63405a7b28f4",
   "metadata": {},
   "outputs": [
    {
     "name": "stdout",
     "output_type": "stream",
     "text": [
      "[ 0  2  4  6  8 10 12 14 16 18]\n",
      "0.23732447624206543\n"
     ]
    }
   ],
   "source": [
    "#  by using numpy array\n",
    "import numpy as np\n",
    "import time\n",
    "size = 1_000_000_0\n",
    "l1 =np.array(list(range(size)))\n",
    "l2 = np.array(list(range(size)))\n",
    "start = time.time()\n",
    "result = l1 + l2\n",
    "end = time.time()\n",
    "print(result[0:10])\n",
    "print(end - start) # works in very less time it has more speed than python list\n",
    "\n"
   ]
  },
  {
   "cell_type": "code",
   "execution_count": 12,
   "id": "5d93d9f9-f944-4246-a592-ba0fde7ae1dd",
   "metadata": {},
   "outputs": [
    {
     "data": {
      "text/plain": [
       "array([1, 2, 3, 4, 5])"
      ]
     },
     "execution_count": 12,
     "metadata": {},
     "output_type": "execute_result"
    }
   ],
   "source": [
    "# how to make numpy array?\n",
    "#numpy can by using python list\n",
    "np.array([1, 2, 3, 4, 5]) # it will give us a numpy array"
   ]
  },
  {
   "cell_type": "code",
   "execution_count": 13,
   "id": "b186dc62-72b6-40a8-80b3-8b6980a08d70",
   "metadata": {},
   "outputs": [
    {
     "data": {
      "text/plain": [
       "array(['1', '2', '3', '4', '5', 'hadia'], dtype='<U11')"
      ]
     },
     "execution_count": 13,
     "metadata": {},
     "output_type": "execute_result"
    }
   ],
   "source": [
    "np.array([1, 2, 3, 4, 5, \"hadia\"]) # it gives array but data type is unicode string so array should be numbers "
   ]
  },
  {
   "cell_type": "code",
   "execution_count": 14,
   "id": "4bca74da-8c09-4cf4-9d0c-2103a2756d2e",
   "metadata": {},
   "outputs": [
    {
     "data": {
      "text/plain": [
       "array([[1, 2, 3],\n",
       "       [4, 5, 6]])"
      ]
     },
     "execution_count": 14,
     "metadata": {},
     "output_type": "execute_result"
    }
   ],
   "source": [
    "np.array([[1, 2, 3], [4, 5, 6]]) # 2D array"
   ]
  },
  {
   "cell_type": "code",
   "execution_count": 15,
   "id": "7ad70670-6e74-46c3-b0d4-2aede16b4994",
   "metadata": {},
   "outputs": [],
   "source": [
    "#np.array([[1, 2, 3], [4, 5, 6, 7, 8]]) it will give arror no of rows should be equal in both list"
   ]
  },
  {
   "cell_type": "code",
   "execution_count": 16,
   "id": "268412a4-33be-4b21-aadd-ab32434986a0",
   "metadata": {},
   "outputs": [
    {
     "data": {
      "text/plain": [
       "numpy.ndarray"
      ]
     },
     "execution_count": 16,
     "metadata": {},
     "output_type": "execute_result"
    }
   ],
   "source": [
    "arr = np.array([[1, 2, 3], [4, 5, 6]])\n",
    "type(arr)"
   ]
  },
  {
   "cell_type": "code",
   "execution_count": 17,
   "id": "88a13302-e15f-4bf8-8aea-0549c730e569",
   "metadata": {},
   "outputs": [
    {
     "data": {
      "text/plain": [
       "(2, 3)"
      ]
     },
     "execution_count": 17,
     "metadata": {},
     "output_type": "execute_result"
    }
   ],
   "source": [
    "arr.shape # (2, #) means 2 rows and 3 coloumns"
   ]
  },
  {
   "cell_type": "markdown",
   "id": "fa0cba73-f0f9-4098-b276-3b191b32733a",
   "metadata": {},
   "source": [
    "why using numpy arrays because it highly optimized\n",
    "backend is hihly optimized c language\n",
    "faster for nummerical computing\n",
    "numpy overcome the slowness of python list"
   ]
  },
  {
   "cell_type": "code",
   "execution_count": 18,
   "id": "1d8c4f05-7364-4ec2-ad94-101f98773304",
   "metadata": {},
   "outputs": [
    {
     "name": "stdout",
     "output_type": "stream",
     "text": [
      "Python list size: 8056000 bytes\n",
      "NumPy array size: 4000 bytes\n"
     ]
    }
   ],
   "source": [
    "# memory efficency numpy VS lists\n",
    "import sys\n",
    "\n",
    "list_data = list(range(1000))\n",
    "numpy_data = np.array(list_data)\n",
    "\n",
    "print(\"Python list size:\", sys.getsizeof(list_data) * len(list_data), \"bytes\")\n",
    "print(\"NumPy array size:\", numpy_data.nbytes, \"bytes\")"
   ]
  },
  {
   "cell_type": "code",
   "execution_count": 22,
   "id": "a12ffd62-a62f-431d-bbca-55ef94eafc24",
   "metadata": {},
   "outputs": [
    {
     "name": "stdout",
     "output_type": "stream",
     "text": [
      "[1, 4, 9, 16]\n",
      "0.000942230224609375\n"
     ]
    }
   ],
   "source": [
    "# vectorization - no more loops\n",
    "import time\n",
    "list1 = [1, 2, 3, 4]\n",
    "start = time.time()\n",
    "list_square = [ x**2 for x in list1]\n",
    "end = time.time()\n",
    "print(list_square)\n",
    "print(end - start)"
   ]
  },
  {
   "cell_type": "code",
   "execution_count": 21,
   "id": "288d2033-ddd6-4b26-ad55-cd82e09590b7",
   "metadata": {},
   "outputs": [
    {
     "name": "stdout",
     "output_type": "stream",
     "text": [
      "[ 1  4  9 16]\n",
      "0.0071947574615478516\n"
     ]
    }
   ],
   "source": [
    "import time\n",
    "arra1 = np.array([1, 2, 3, 4])\n",
    "start = time.time()\n",
    "# vectorized\n",
    "list_square = arra1 **2 # no need of for loop\n",
    "end = time.time()\n",
    "print(list_square)\n",
    "print(end - start)"
   ]
  },
  {
   "cell_type": "code",
   "execution_count": 26,
   "id": "36513879-91e2-40a5-bb43-617bf4c58cbb",
   "metadata": {
    "scrolled": true
   },
   "outputs": [
    {
     "name": "stdout",
     "output_type": "stream",
     "text": [
      "[ 10  11  12  13  14  15  16  17  18  19  20  21  22  23  24  25  26  27\n",
      "  28  29  30  31  32  33  34  35  36  37  38  39  40  41  42  43  44  45\n",
      "  46  47  48  49  50  51  52  53  54  55  56  57  58  59  60  61  62  63\n",
      "  64  65  66  67  68  69  70  71  72  73  74  75  76  77  78  79  80  81\n",
      "  82  83  84  85  86  87  88  89  90  91  92  93  94  95  96  97  98  99\n",
      " 100]\n"
     ]
    },
    {
     "data": {
      "text/plain": [
       "(91,)"
      ]
     },
     "execution_count": 26,
     "metadata": {},
     "output_type": "execute_result"
    }
   ],
   "source": [
    "#Exercises for Practice\n",
    "#Create a NumPy array with values from 10 to 100 and print its shape.\n",
    "array = np.arange(10, 101)\n",
    "print(array)\n",
    "array.shape"
   ]
  },
  {
   "cell_type": "code",
   "execution_count": 35,
   "id": "840980fd-26f2-4e91-9982-b254a9d04668",
   "metadata": {},
   "outputs": [
    {
     "name": "stdout",
     "output_type": "stream",
     "text": [
      "[4, 10, 18]\n",
      "0.0\n"
     ]
    }
   ],
   "source": [
    "# Compare the time taken to multiply two Python lists vs. two NumPy arrays.\n",
    "#by using python list\n",
    "import time\n",
    "l1 = [1, 2, 3]\n",
    "l2 = [4, 5, 6]\n",
    "start = time.time()\n",
    "multiply = [x*y for x,y in zip(l1, l2)]\n",
    "end = time.time()\n",
    "print(multiply)\n",
    "print(end - start)"
   ]
  },
  {
   "cell_type": "code",
   "execution_count": 36,
   "id": "271824e4-f0d0-4441-a6ad-4c29ceec795f",
   "metadata": {},
   "outputs": [
    {
     "name": "stdout",
     "output_type": "stream",
     "text": [
      "[ 4 10 18]\n",
      "0.0\n"
     ]
    }
   ],
   "source": [
    "# by using numpy array\n",
    "l1 = np.array([1, 2, 3])\n",
    "l2 = np.array([4, 5, 6])\n",
    "start = time.time()\n",
    "multiply =l1 * l2\n",
    "end = time.time()\n",
    "print(multiply)\n",
    "print(end - start)"
   ]
  },
  {
   "cell_type": "code",
   "execution_count": 37,
   "id": "45030189-5d77-4c1f-9497-28a8d397822b",
   "metadata": {},
   "outputs": [
    {
     "name": "stdout",
     "output_type": "stream",
     "text": [
      "Python list size: 8000056000000 bytes\n",
      "NumPy array size: 4000000 bytes\n"
     ]
    }
   ],
   "source": [
    "# Find the memory size of a NumPy array with 1 million elements.\n",
    "import sys\n",
    "\n",
    "list_data = list(range(1_000_000))\n",
    "numpy_data = np.array(list_data)\n",
    "\n",
    "print(\"Python list size:\", sys.getsizeof(list_data) * len(list_data), \"bytes\")\n",
    "print(\"NumPy array size:\", numpy_data.nbytes, \"bytes\")"
   ]
  },
  {
   "cell_type": "code",
   "execution_count": null,
   "id": "63de9aed-7922-426b-88fb-62e56a3054d2",
   "metadata": {},
   "outputs": [],
   "source": []
  }
 ],
 "metadata": {
  "kernelspec": {
   "display_name": "Python [conda env:base] *",
   "language": "python",
   "name": "conda-base-py"
  },
  "language_info": {
   "codemirror_mode": {
    "name": "ipython",
    "version": 3
   },
   "file_extension": ".py",
   "mimetype": "text/x-python",
   "name": "python",
   "nbconvert_exporter": "python",
   "pygments_lexer": "ipython3",
   "version": "3.12.7"
  }
 },
 "nbformat": 4,
 "nbformat_minor": 5
}
