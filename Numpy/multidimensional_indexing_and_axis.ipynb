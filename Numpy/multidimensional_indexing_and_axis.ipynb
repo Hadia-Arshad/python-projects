{
 "cells": [
  {
   "cell_type": "code",
   "execution_count": 2,
   "id": "669927fc-9ecb-4376-9571-7f7d6c5bc00e",
   "metadata": {},
   "outputs": [
    {
     "data": {
      "text/plain": [
       "array([[1, 2, 3],\n",
       "       [4, 5, 6],\n",
       "       [7, 8, 9]])"
      ]
     },
     "execution_count": 2,
     "metadata": {},
     "output_type": "execute_result"
    }
   ],
   "source": [
    "import numpy as np\n",
    "arr = np.array([[1, 2, 3], [4, 5, 6], [7, 8, 9]])\n",
    "arr"
   ]
  },
  {
   "cell_type": "code",
   "execution_count": 3,
   "id": "0a2fbbb1-b946-4b54-856c-cfc26a5e481b",
   "metadata": {},
   "outputs": [
    {
     "data": {
      "text/plain": [
       "array([1, 2, 3])"
      ]
     },
     "execution_count": 3,
     "metadata": {},
     "output_type": "execute_result"
    }
   ],
   "source": [
    "arr[0] # it will gives the first row"
   ]
  },
  {
   "cell_type": "code",
   "execution_count": 4,
   "id": "07e44dfe-434c-4c12-aac4-41aa490797e1",
   "metadata": {},
   "outputs": [
    {
     "data": {
      "text/plain": [
       "array([4, 5, 6])"
      ]
     },
     "execution_count": 4,
     "metadata": {},
     "output_type": "execute_result"
    }
   ],
   "source": [
    "arr[1] #will give second row"
   ]
  },
  {
   "cell_type": "code",
   "execution_count": 5,
   "id": "075244d2-77d7-4dd1-9dc8-bf659ed66a81",
   "metadata": {},
   "outputs": [
    {
     "data": {
      "text/plain": [
       "array([7, 8, 9])"
      ]
     },
     "execution_count": 5,
     "metadata": {},
     "output_type": "execute_result"
    }
   ],
   "source": [
    "arr[2] # will give 3rd row"
   ]
  },
  {
   "cell_type": "code",
   "execution_count": 6,
   "id": "1382541d-4a7e-4dc9-b6d6-332403b1ff50",
   "metadata": {},
   "outputs": [
    {
     "data": {
      "text/plain": [
       "array([12, 15, 18])"
      ]
     },
     "execution_count": 6,
     "metadata": {},
     "output_type": "execute_result"
    }
   ],
   "source": [
    "np.sum(arr, axis = 0) # sum the 1st, 2nd, 3rd elements of row1 row2 and row3(1+4+7=12), (2++5+8=15), (3+6+9=18)"
   ]
  },
  {
   "cell_type": "code",
   "execution_count": 8,
   "id": "9aeb9379-766b-4377-a870-c07221572d3b",
   "metadata": {},
   "outputs": [
    {
     "data": {
      "text/plain": [
       "array([ 6, 15, 24])"
      ]
     },
     "execution_count": 8,
     "metadata": {},
     "output_type": "execute_result"
    }
   ],
   "source": [
    "np.sum(arr, axis=1)# coloumns wise sum (1+2+3=6), (4+5+6= 15), (7+8+9 = 24)"
   ]
  },
  {
   "cell_type": "code",
   "execution_count": 9,
   "id": "342bf285-8b8e-4007-aebe-2275ac149595",
   "metadata": {},
   "outputs": [
    {
     "data": {
      "text/plain": [
       "2"
      ]
     },
     "execution_count": 9,
     "metadata": {},
     "output_type": "execute_result"
    }
   ],
   "source": [
    "arr[0][1]# means element at index one of row 1"
   ]
  },
  {
   "cell_type": "code",
   "execution_count": 11,
   "id": "364c427b-2849-45c8-bded-d1c39c5b7cfa",
   "metadata": {},
   "outputs": [
    {
     "data": {
      "text/plain": [
       "2"
      ]
     },
     "execution_count": 11,
     "metadata": {},
     "output_type": "execute_result"
    }
   ],
   "source": [
    "arr[0, 1] # take index 0 row and index 1 row "
   ]
  },
  {
   "cell_type": "code",
   "execution_count": 13,
   "id": "fcbe353e-f561-4805-9deb-dbde6cb3c8a7",
   "metadata": {},
   "outputs": [
    {
     "data": {
      "text/plain": [
       "array([[2, 3],\n",
       "       [5, 6]])"
      ]
     },
     "execution_count": 13,
     "metadata": {},
     "output_type": "execute_result"
    }
   ],
   "source": [
    "arr[0:2, 1:3] # overlapping part of rows with index 0,1 and coloumns with index 1, 2 "
   ]
  },
  {
   "cell_type": "code",
   "execution_count": 14,
   "id": "6ede6f25-1ad9-4e64-8b5c-469543a547be",
   "metadata": {},
   "outputs": [
    {
     "data": {
      "text/plain": [
       "array([[[ 1,  2,  3],\n",
       "        [ 4,  5,  6]],\n",
       "\n",
       "       [[ 7,  8,  9],\n",
       "        [10, 11, 12]]])"
      ]
     },
     "execution_count": 14,
     "metadata": {},
     "output_type": "execute_result"
    }
   ],
   "source": [
    "# indexing in 3D\n",
    "arr3D = np.array([[[1, 2, 3], [4, 5, 6]],\n",
    "                  [[7, 8, 9], [10, 11, 12]]])\n",
    "arr3D"
   ]
  },
  {
   "cell_type": "code",
   "execution_count": 15,
   "id": "d1ab4f17-c91f-4957-995d-0d52e7ce41f7",
   "metadata": {},
   "outputs": [
    {
     "data": {
      "text/plain": [
       "(2, 2, 3)"
      ]
     },
     "execution_count": 15,
     "metadata": {},
     "output_type": "execute_result"
    }
   ],
   "source": [
    "arr3D.shape# 2 depths 2 rows and 3 coloumns"
   ]
  },
  {
   "cell_type": "code",
   "execution_count": 17,
   "id": "2c994bb9-ebb9-4773-8c96-d9ad004002de",
   "metadata": {},
   "outputs": [
    {
     "data": {
      "text/plain": [
       "array([[1, 2, 3],\n",
       "       [4, 5, 6]])"
      ]
     },
     "execution_count": 17,
     "metadata": {},
     "output_type": "execute_result"
    }
   ],
   "source": [
    "arr3D[0] # it will print the first particular part of array 3D"
   ]
  },
  {
   "cell_type": "code",
   "execution_count": 18,
   "id": "9ed094c2-8229-4007-9bb4-f780ecb85614",
   "metadata": {},
   "outputs": [
    {
     "data": {
      "text/plain": [
       "6"
      ]
     },
     "execution_count": 18,
     "metadata": {},
     "output_type": "execute_result"
    }
   ],
   "source": [
    "arr3D[0, 1, 2]#  0 shows particular sheet row with index 1 and coloumn with index 2 "
   ]
  },
  {
   "cell_type": "code",
   "execution_count": 22,
   "id": "555c5894-711f-4690-b0fb-384752adf474",
   "metadata": {},
   "outputs": [
    {
     "data": {
      "text/plain": [
       "array([[1, 2, 3],\n",
       "       [7, 8, 9]])"
      ]
     },
     "execution_count": 22,
     "metadata": {},
     "output_type": "execute_result"
    }
   ],
   "source": [
    "arr3D[:,0, :] # get the row from both the sheets"
   ]
  },
  {
   "cell_type": "code",
   "execution_count": 23,
   "id": "38084fa0-e9ef-4df8-9841-07f6be31149a",
   "metadata": {},
   "outputs": [
    {
     "data": {
      "text/plain": [
       "array([[1, 2, 3],\n",
       "       [4, 5, 6],\n",
       "       [7, 8, 9]])"
      ]
     },
     "execution_count": 23,
     "metadata": {},
     "output_type": "execute_result"
    }
   ],
   "source": [
    "arr = np.array([[1, 2, 3], [4, 5, 6], [7, 8, 9]])\n",
    "arr"
   ]
  },
  {
   "cell_type": "code",
   "execution_count": 21,
   "id": "4119e34a-7b9e-4c4c-af18-719c28f566ef",
   "metadata": {},
   "outputs": [
    {
     "data": {
      "text/plain": [
       "array([1, 4, 7])"
      ]
     },
     "execution_count": 21,
     "metadata": {},
     "output_type": "execute_result"
    }
   ],
   "source": [
    "\n",
    "first_coloumn = arr[:, 0]\n",
    "first_coloumn"
   ]
  },
  {
   "cell_type": "code",
   "execution_count": 27,
   "id": "4c476d0b-2b16-450d-b559-72afb163e183",
   "metadata": {},
   "outputs": [
    {
     "data": {
      "text/plain": [
       "array([2, 5, 8])"
      ]
     },
     "execution_count": 27,
     "metadata": {},
     "output_type": "execute_result"
    }
   ],
   "source": [
    "second_coloumn = arr[:, 1]\n",
    "second_coloumn"
   ]
  },
  {
   "cell_type": "code",
   "execution_count": 28,
   "id": "a1619ad1-7863-4f4c-8e04-c5b4cae795be",
   "metadata": {},
   "outputs": [
    {
     "data": {
      "text/plain": [
       "array([3, 6, 9])"
      ]
     },
     "execution_count": 28,
     "metadata": {},
     "output_type": "execute_result"
    }
   ],
   "source": [
    "third_coloumn = arr[:, 2]\n",
    "third_coloumn"
   ]
  },
  {
   "cell_type": "code",
   "execution_count": 29,
   "id": "a49b8c79-b815-40c7-b71b-612041afb072",
   "metadata": {},
   "outputs": [
    {
     "data": {
      "text/plain": [
       "array([1, 2, 3])"
      ]
     },
     "execution_count": 29,
     "metadata": {},
     "output_type": "execute_result"
    }
   ],
   "source": [
    "first_row = arr[0, :]\n",
    "first_row"
   ]
  },
  {
   "cell_type": "code",
   "execution_count": 31,
   "id": "38bf042c-2338-465f-88e0-da7cdcd079a6",
   "metadata": {},
   "outputs": [
    {
     "data": {
      "text/plain": [
       "array([4, 5, 6])"
      ]
     },
     "execution_count": 31,
     "metadata": {},
     "output_type": "execute_result"
    }
   ],
   "source": [
    "second_row = arr[1, :]\n",
    "second_row"
   ]
  },
  {
   "cell_type": "code",
   "execution_count": 32,
   "id": "1cc6b648-47c7-468f-9f93-71b67c07b4ab",
   "metadata": {},
   "outputs": [
    {
     "data": {
      "text/plain": [
       "array([[[ 1,  2,  3],\n",
       "        [ 4,  5,  6]],\n",
       "\n",
       "       [[ 7,  8,  9],\n",
       "        [10, 11, 12]]])"
      ]
     },
     "execution_count": 32,
     "metadata": {},
     "output_type": "execute_result"
    }
   ],
   "source": [
    "arr3D #now see rows and coloumns for 3D"
   ]
  },
  {
   "cell_type": "code",
   "execution_count": 33,
   "id": "7c849c0a-a08b-48fe-a12b-b5013ea6cbf3",
   "metadata": {},
   "outputs": [
    {
     "data": {
      "text/plain": [
       "array([[1, 2, 3],\n",
       "       [7, 8, 9]])"
      ]
     },
     "execution_count": 33,
     "metadata": {},
     "output_type": "execute_result"
    }
   ],
   "source": [
    "first_row = arr3D[:, 0, :] #get the first row from each sheet\n",
    "first_row"
   ]
  },
  {
   "cell_type": "code",
   "execution_count": 34,
   "id": "be0dd7ac-13c9-45fc-b3a2-036498361703",
   "metadata": {},
   "outputs": [
    {
     "data": {
      "text/plain": [
       "array([[1, 2, 3],\n",
       "       [4, 5, 6],\n",
       "       [7, 8, 9]])"
      ]
     },
     "execution_count": 34,
     "metadata": {},
     "output_type": "execute_result"
    }
   ],
   "source": [
    "arr"
   ]
  },
  {
   "cell_type": "code",
   "execution_count": 38,
   "id": "decda085-3deb-4972-8c2c-aea03954890a",
   "metadata": {},
   "outputs": [
    {
     "data": {
      "text/plain": [
       "array([[1, 0, 3],\n",
       "       [4, 0, 6],\n",
       "       [7, 0, 9]])"
      ]
     },
     "execution_count": 38,
     "metadata": {},
     "output_type": "execute_result"
    }
   ],
   "source": [
    "#changing data along axis\n",
    "arr[:, 1] = 0\n",
    "arr"
   ]
  },
  {
   "cell_type": "code",
   "execution_count": 2,
   "id": "ac885406-de1a-4087-871f-95d28fdcb64a",
   "metadata": {},
   "outputs": [
    {
     "data": {
      "text/plain": [
       "array([[0, 0, 0, 0, 0, 0, 0, 0],\n",
       "       [0, 0, 0, 0, 0, 0, 0, 0],\n",
       "       [0, 0, 0, 0, 0, 0, 0, 0],\n",
       "       [0, 0, 0, 0, 0, 0, 0, 0],\n",
       "       [0, 0, 0, 0, 0, 0, 0, 0],\n",
       "       [0, 0, 0, 0, 0, 0, 0, 0],\n",
       "       [0, 0, 0, 0, 0, 0, 0, 0],\n",
       "       [0, 0, 0, 0, 0, 0, 0, 0]])"
      ]
     },
     "execution_count": 2,
     "metadata": {},
     "output_type": "execute_result"
    }
   ],
   "source": [
    "# problem 1: Create an 8x8 NumPy array with a checkerboard pattern of 0s and 1s (like a chessboard), starting with 0.\n",
    "import numpy as np\n",
    "checkboard = np.zeros((8, 8),dtype = int)\n",
    "checkboard"
   ]
  },
  {
   "cell_type": "code",
   "execution_count": 3,
   "id": "369b3822-8453-4a40-bf47-c6ec18e5e826",
   "metadata": {},
   "outputs": [
    {
     "data": {
      "text/plain": [
       "array([[0, 0, 0, 0, 0, 0, 0, 0],\n",
       "       [1, 0, 1, 0, 1, 0, 1, 0],\n",
       "       [0, 0, 0, 0, 0, 0, 0, 0],\n",
       "       [1, 0, 1, 0, 1, 0, 1, 0],\n",
       "       [0, 0, 0, 0, 0, 0, 0, 0],\n",
       "       [1, 0, 1, 0, 1, 0, 1, 0],\n",
       "       [0, 0, 0, 0, 0, 0, 0, 0],\n",
       "       [1, 0, 1, 0, 1, 0, 1, 0]])"
      ]
     },
     "execution_count": 3,
     "metadata": {},
     "output_type": "execute_result"
    }
   ],
   "source": [
    "checkboard[1::2, ::2] = 1 # 1::2 pics odd rows and ::2 pics even coloumns\n",
    "checkboard"
   ]
  },
  {
   "cell_type": "code",
   "execution_count": 4,
   "id": "9e19a93f-d43e-437e-8613-eaf1cf8e46a0",
   "metadata": {},
   "outputs": [
    {
     "data": {
      "text/plain": [
       "array([[0, 1, 0, 1, 0, 1, 0, 1],\n",
       "       [1, 0, 1, 0, 1, 0, 1, 0],\n",
       "       [0, 1, 0, 1, 0, 1, 0, 1],\n",
       "       [1, 0, 1, 0, 1, 0, 1, 0],\n",
       "       [0, 1, 0, 1, 0, 1, 0, 1],\n",
       "       [1, 0, 1, 0, 1, 0, 1, 0],\n",
       "       [0, 1, 0, 1, 0, 1, 0, 1],\n",
       "       [1, 0, 1, 0, 1, 0, 1, 0]])"
      ]
     },
     "execution_count": 4,
     "metadata": {},
     "output_type": "execute_result"
    }
   ],
   "source": [
    "checkboard[::2, 1::2] = 1 # ::2 pics even rows and 1::2 pics odd coloumns\n",
    "checkboard"
   ]
  },
  {
   "cell_type": "code",
   "execution_count": 6,
   "id": "4252029f-157f-4f42-a7c5-4577e78435d1",
   "metadata": {},
   "outputs": [
    {
     "data": {
      "text/plain": [
       "array([[1, 1, 1, 1, 1],\n",
       "       [1, 1, 1, 1, 1],\n",
       "       [1, 1, 1, 1, 1],\n",
       "       [1, 1, 1, 1, 1],\n",
       "       [1, 1, 1, 1, 1]])"
      ]
     },
     "execution_count": 6,
     "metadata": {},
     "output_type": "execute_result"
    }
   ],
   "source": [
    "# problem 2: Create a 5x5 array with all 1s on the border and 0s inside.\n",
    "arr2 = np.ones((5, 5), dtype = int)\n",
    "arr2"
   ]
  },
  {
   "cell_type": "code",
   "execution_count": 13,
   "id": "7c6a8ffc-ef2b-42ea-80b0-c4e2bef759ca",
   "metadata": {},
   "outputs": [
    {
     "data": {
      "text/plain": [
       "array([[1, 1, 1, 1, 1],\n",
       "       [0, 0, 0, 0, 0],\n",
       "       [0, 0, 0, 0, 0],\n",
       "       [0, 0, 0, 0, 0],\n",
       "       [1, 1, 1, 1, 1]])"
      ]
     },
     "execution_count": 13,
     "metadata": {},
     "output_type": "execute_result"
    }
   ],
   "source": [
    "arr2[1:4] = 0\n",
    "arr2"
   ]
  },
  {
   "cell_type": "code",
   "execution_count": 10,
   "id": "e978102e-b879-45a2-93cb-9f4a748d4c1d",
   "metadata": {},
   "outputs": [
    {
     "data": {
      "text/plain": [
       "array([[1, 1, 1, 1, 1],\n",
       "       [1, 0, 0, 0, 0],\n",
       "       [1, 0, 0, 0, 0],\n",
       "       [1, 0, 0, 0, 0],\n",
       "       [1, 1, 1, 1, 1]])"
      ]
     },
     "execution_count": 10,
     "metadata": {},
     "output_type": "execute_result"
    }
   ],
   "source": [
    "arr2[:, 0] = 1\n",
    "arr2"
   ]
  },
  {
   "cell_type": "code",
   "execution_count": 12,
   "id": "66889731-bbce-40c3-8a7e-ceb4971361c0",
   "metadata": {},
   "outputs": [
    {
     "data": {
      "text/plain": [
       "array([[1, 1, 1, 1, 1],\n",
       "       [1, 0, 0, 0, 1],\n",
       "       [1, 0, 0, 0, 1],\n",
       "       [1, 0, 0, 0, 1],\n",
       "       [1, 1, 1, 1, 1]])"
      ]
     },
     "execution_count": 12,
     "metadata": {},
     "output_type": "execute_result"
    }
   ],
   "source": [
    "arr2[:,4] = 1\n",
    "arr2"
   ]
  },
  {
   "cell_type": "code",
   "execution_count": null,
   "id": "4ef7f2c2-2f34-40fb-831f-c39c2e4bc782",
   "metadata": {},
   "outputs": [],
   "source": []
  }
 ],
 "metadata": {
  "kernelspec": {
   "display_name": "Python [conda env:base] *",
   "language": "python",
   "name": "conda-base-py"
  },
  "language_info": {
   "codemirror_mode": {
    "name": "ipython",
    "version": 3
   },
   "file_extension": ".py",
   "mimetype": "text/x-python",
   "name": "python",
   "nbconvert_exporter": "python",
   "pygments_lexer": "ipython3",
   "version": "3.12.7"
  }
 },
 "nbformat": 4,
 "nbformat_minor": 5
}
