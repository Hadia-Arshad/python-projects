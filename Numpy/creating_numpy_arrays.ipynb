{
 "cells": [
  {
   "cell_type": "code",
   "execution_count": 1,
   "id": "b47e670e-7e7f-48dc-ae98-34699be157e9",
   "metadata": {},
   "outputs": [],
   "source": [
    "import numpy as np\n"
   ]
  },
  {
   "cell_type": "code",
   "execution_count": 2,
   "id": "85e437ec-28d4-4d64-94da-ac3094600ff4",
   "metadata": {},
   "outputs": [
    {
     "name": "stdout",
     "output_type": "stream",
     "text": [
      "Requirement already satisfied: numpy in c:\\users\\taj\\anaconda3\\lib\\site-packages (1.26.4)\n"
     ]
    }
   ],
   "source": [
    "!pip install numpy # to install numpy"
   ]
  },
  {
   "cell_type": "code",
   "execution_count": 3,
   "id": "6cc1bacc-9b8b-4549-9391-d546dfb31136",
   "metadata": {},
   "outputs": [
    {
     "data": {
      "text/plain": [
       "array([1, 2, 3])"
      ]
     },
     "execution_count": 3,
     "metadata": {},
     "output_type": "execute_result"
    }
   ],
   "source": [
    "arr = np.array([1, 2, 3])\n",
    "arr"
   ]
  },
  {
   "cell_type": "markdown",
   "id": "79f5c06c-7240-4349-a54f-e382565a5240",
   "metadata": {},
   "source": [
    "we did'nt creat arrays just from list there is so many other particular ways to create arrays"
   ]
  },
  {
   "cell_type": "code",
   "execution_count": 4,
   "id": "25d465eb-7436-4803-9dd3-9e74be43f92a",
   "metadata": {},
   "outputs": [
    {
     "data": {
      "text/plain": [
       "array([[0., 0., 0., 0.],\n",
       "       [0., 0., 0., 0.],\n",
       "       [0., 0., 0., 0.]])"
      ]
     },
     "execution_count": 4,
     "metadata": {},
     "output_type": "execute_result"
    }
   ],
   "source": [
    "# creating arrays from scratch\n",
    "np.zeros((3, 4))"
   ]
  },
  {
   "cell_type": "code",
   "execution_count": 5,
   "id": "44fa3ff9-7c3d-4023-92a1-6f6f06f96a1d",
   "metadata": {},
   "outputs": [
    {
     "data": {
      "text/plain": [
       "array([[1., 1., 1., 1., 1.],\n",
       "       [1., 1., 1., 1., 1.],\n",
       "       [1., 1., 1., 1., 1.]])"
      ]
     },
     "execution_count": 5,
     "metadata": {},
     "output_type": "execute_result"
    }
   ],
   "source": [
    "np.ones((3, 5))"
   ]
  },
  {
   "cell_type": "code",
   "execution_count": 7,
   "id": "e0a1db05-9d03-4eb4-b019-e129786759e7",
   "metadata": {},
   "outputs": [
    {
     "data": {
      "text/plain": [
       "array([[8, 8, 8, 8, 8, 8],\n",
       "       [8, 8, 8, 8, 8, 8],\n",
       "       [8, 8, 8, 8, 8, 8],\n",
       "       [8, 8, 8, 8, 8, 8]])"
      ]
     },
     "execution_count": 7,
     "metadata": {},
     "output_type": "execute_result"
    }
   ],
   "source": [
    "np.full((4, 6), 8)"
   ]
  },
  {
   "cell_type": "code",
   "execution_count": 8,
   "id": "f28d8398-8fab-4fe3-803d-86ecb29a3b6a",
   "metadata": {},
   "outputs": [
    {
     "data": {
      "text/plain": [
       "array([[1., 0., 0., 0.],\n",
       "       [0., 1., 0., 0.],\n",
       "       [0., 0., 1., 0.],\n",
       "       [0., 0., 0., 1.]])"
      ]
     },
     "execution_count": 8,
     "metadata": {},
     "output_type": "execute_result"
    }
   ],
   "source": [
    "np.eye(4)"
   ]
  },
  {
   "cell_type": "code",
   "execution_count": 9,
   "id": "2a535ea8-d5ce-47c4-9b01-c39ddc6d1e44",
   "metadata": {},
   "outputs": [
    {
     "data": {
      "text/plain": [
       "array([ 1,  3,  5,  7,  9, 11])"
      ]
     },
     "execution_count": 9,
     "metadata": {},
     "output_type": "execute_result"
    }
   ],
   "source": [
    "np.arange(1, 12, 2) # like range "
   ]
  },
  {
   "cell_type": "code",
   "execution_count": 11,
   "id": "dc26cd80-cfc2-42ee-8855-ec53b185deaf",
   "metadata": {},
   "outputs": [
    {
     "data": {
      "text/plain": [
       "array([  1.  ,  25.75,  50.5 ,  75.25, 100.  ])"
      ]
     },
     "execution_count": 11,
     "metadata": {},
     "output_type": "execute_result"
    }
   ],
   "source": [
    "np.linspace(1, 100, 5) # equally spaced array of 5 elements"
   ]
  },
  {
   "cell_type": "code",
   "execution_count": 15,
   "id": "40217dd7-a62d-4170-bf91-57ef16b7e1fc",
   "metadata": {},
   "outputs": [
    {
     "data": {
      "text/plain": [
       "array([[10, 20, 30],\n",
       "       [40, 50, 60],\n",
       "       [ 2,  3,  4],\n",
       "       [ 4,  5,  6]])"
      ]
     },
     "execution_count": 15,
     "metadata": {},
     "output_type": "execute_result"
    }
   ],
   "source": [
    "myarr = np.array([[10, 20, 30], [40, 50, 60], [2, 3, 4], [4, 5, 6]])\n",
    "myarr"
   ]
  },
  {
   "cell_type": "code",
   "execution_count": 16,
   "id": "6a106d83-78b5-476c-ab2a-e90e2091f867",
   "metadata": {},
   "outputs": [
    {
     "data": {
      "text/plain": [
       "(4, 3)"
      ]
     },
     "execution_count": 16,
     "metadata": {},
     "output_type": "execute_result"
    }
   ],
   "source": [
    "myarr.shape # gives rows and coloumns"
   ]
  },
  {
   "cell_type": "code",
   "execution_count": 17,
   "id": "3ff74bd3-a119-4fd4-a8a7-e12f734b8aaa",
   "metadata": {
    "scrolled": true
   },
   "outputs": [
    {
     "data": {
      "text/plain": [
       "12"
      ]
     },
     "execution_count": 17,
     "metadata": {},
     "output_type": "execute_result"
    }
   ],
   "source": [
    "myarr.size # total number of elements 4*3 = 12"
   ]
  },
  {
   "cell_type": "code",
   "execution_count": 18,
   "id": "25793bfa-a8b5-4eaf-bfa2-4d2b3a666d62",
   "metadata": {},
   "outputs": [
    {
     "data": {
      "text/plain": [
       "2"
      ]
     },
     "execution_count": 18,
     "metadata": {},
     "output_type": "execute_result"
    }
   ],
   "source": [
    "myarr.ndim # show dimension means 2D"
   ]
  },
  {
   "cell_type": "code",
   "execution_count": 19,
   "id": "65e75ae6-82a6-4f77-b3d3-419cbb60148e",
   "metadata": {},
   "outputs": [
    {
     "data": {
      "text/plain": [
       "dtype('int32')"
      ]
     },
     "execution_count": 19,
     "metadata": {},
     "output_type": "execute_result"
    }
   ],
   "source": [
    "myarr.dtype # how numpy store your numbers "
   ]
  },
  {
   "cell_type": "markdown",
   "id": "d43ec4da-ca5b-49dd-b638-93f659f9c86c",
   "metadata": {},
   "source": [
    "changing the data type:\n",
    "Can we change the data type of numpy? the answer is yes."
   ]
  },
  {
   "cell_type": "code",
   "execution_count": 20,
   "id": "5a902023-d4c2-4041-9b98-f41b17de0d32",
   "metadata": {},
   "outputs": [
    {
     "data": {
      "text/plain": [
       "array([[10., 20., 30.],\n",
       "       [40., 50., 60.],\n",
       "       [ 2.,  3.,  4.],\n",
       "       [ 4.,  5.,  6.]], dtype=float32)"
      ]
     },
     "execution_count": 20,
     "metadata": {},
     "output_type": "execute_result"
    }
   ],
   "source": [
    "myarr = np.array([[10, 20, 30], [40, 50, 60], [2, 3, 4], [4, 5, 6]], dtype='float32') #gives 32 bit floating numbers\n",
    "myarr"
   ]
  },
  {
   "cell_type": "code",
   "execution_count": 21,
   "id": "a565aeb6-5340-44ae-9e88-836545ee2007",
   "metadata": {},
   "outputs": [
    {
     "data": {
      "text/plain": [
       "array([[10., 20., 30.],\n",
       "       [40., 50., 60.],\n",
       "       [ 2.,  3.,  4.],\n",
       "       [ 4.,  5.,  6.]], dtype=float32)"
      ]
     },
     "execution_count": 21,
     "metadata": {},
     "output_type": "execute_result"
    }
   ],
   "source": [
    "myarr"
   ]
  },
  {
   "cell_type": "code",
   "execution_count": 22,
   "id": "3695ab1c-86cb-4504-81e9-478f364da869",
   "metadata": {},
   "outputs": [],
   "source": [
    "n = myarr.astype('float64') # it will convert myarr which is float32 into float64"
   ]
  },
  {
   "cell_type": "code",
   "execution_count": 23,
   "id": "264d8920-a3b7-461b-9569-23f2ed17ef16",
   "metadata": {},
   "outputs": [
    {
     "data": {
      "text/plain": [
       "dtype('float64')"
      ]
     },
     "execution_count": 23,
     "metadata": {},
     "output_type": "execute_result"
    }
   ],
   "source": [
    "n.dtype"
   ]
  },
  {
   "cell_type": "code",
   "execution_count": 24,
   "id": "e656aaf5-eb7b-4377-afd8-de82e18bda7a",
   "metadata": {},
   "outputs": [
    {
     "data": {
      "text/plain": [
       "dtype('float32')"
      ]
     },
     "execution_count": 24,
     "metadata": {},
     "output_type": "execute_result"
    }
   ],
   "source": [
    "myarr.dtype #but myarr main array is still float32"
   ]
  },
  {
   "cell_type": "markdown",
   "id": "6a4d2c65-ec5d-4420-9ea0-74d3752fab59",
   "metadata": {},
   "source": [
    "Reshaping and flattening arrays"
   ]
  },
  {
   "cell_type": "code",
   "execution_count": 28,
   "id": "2b12bb86-8cca-4a4e-a19a-a3a931222a5a",
   "metadata": {},
   "outputs": [
    {
     "data": {
      "text/plain": [
       "array([[10, 20, 30],\n",
       "       [40, 50, 60],\n",
       "       [ 2,  3,  4],\n",
       "       [ 4,  5,  6]])"
      ]
     },
     "execution_count": 28,
     "metadata": {},
     "output_type": "execute_result"
    }
   ],
   "source": [
    "myarr = np.array([[10, 20, 30], [40, 50, 60], [2, 3, 4], [4, 5, 6]])\n",
    "myarr"
   ]
  },
  {
   "cell_type": "code",
   "execution_count": 29,
   "id": "cae37645-f3c5-4056-9876-f6ecc68baf5e",
   "metadata": {},
   "outputs": [
    {
     "data": {
      "text/plain": [
       "(4, 3)"
      ]
     },
     "execution_count": 29,
     "metadata": {},
     "output_type": "execute_result"
    }
   ],
   "source": [
    "myarr.shape"
   ]
  },
  {
   "cell_type": "code",
   "execution_count": 30,
   "id": "378ef287-b154-45d7-b893-9b861e92593a",
   "metadata": {},
   "outputs": [],
   "source": [
    "reshaped = myarr.reshape((3, 4))# it will change the shape in 3 rows and 4 coloumns"
   ]
  },
  {
   "cell_type": "code",
   "execution_count": 31,
   "id": "7c50cf08-ee94-448f-9630-173fb2001295",
   "metadata": {},
   "outputs": [
    {
     "data": {
      "text/plain": [
       "array([[10, 20, 30, 40],\n",
       "       [50, 60,  2,  3],\n",
       "       [ 4,  4,  5,  6]])"
      ]
     },
     "execution_count": 31,
     "metadata": {},
     "output_type": "execute_result"
    }
   ],
   "source": [
    "reshaped"
   ]
  },
  {
   "cell_type": "code",
   "execution_count": 32,
   "id": "92f62ba0-74ba-439c-bd33-0a1732c3b4f4",
   "metadata": {},
   "outputs": [
    {
     "data": {
      "text/plain": [
       "array([[10, 20, 30, 40, 50, 60],\n",
       "       [ 2,  3,  4,  4,  5,  6]])"
      ]
     },
     "execution_count": 32,
     "metadata": {},
     "output_type": "execute_result"
    }
   ],
   "source": [
    "myarr.reshape((2, 6))"
   ]
  },
  {
   "cell_type": "code",
   "execution_count": 33,
   "id": "40580048-31bc-43b0-881c-4eb0cc318d2c",
   "metadata": {},
   "outputs": [],
   "source": [
    "# myarr.reshape((2, 10)) will give error bcz no of elements should be same 2*10 is 20 but myarr has no of elements 12"
   ]
  },
  {
   "cell_type": "code",
   "execution_count": 35,
   "id": "42bbd54d-7e6a-4db9-a366-0716cbfe3542",
   "metadata": {},
   "outputs": [
    {
     "data": {
      "text/plain": [
       "array([10, 20, 30, 40, 50, 60,  2,  3,  4,  4,  5,  6])"
      ]
     },
     "execution_count": 35,
     "metadata": {},
     "output_type": "execute_result"
    }
   ],
   "source": [
    "myarr.flatten() # it will convert 2D into 1D"
   ]
  },
  {
   "cell_type": "code",
   "execution_count": 38,
   "id": "bd9269fa-bf52-4466-a88b-3f8ed9c1d37e",
   "metadata": {},
   "outputs": [
    {
     "data": {
      "text/plain": [
       "array([1, 2, 3, 4, 5, 6, 7, 8, 9])"
      ]
     },
     "execution_count": 38,
     "metadata": {},
     "output_type": "execute_result"
    }
   ],
   "source": [
    "# problem 1 Use np.arange() to create a 3x3 NumPy array with values from 1 to 9.\n",
    "arr = np.arange(1, 10)\n",
    "arr"
   ]
  },
  {
   "cell_type": "code",
   "execution_count": 39,
   "id": "2c020421-1c2d-46ea-ae2a-5c488c5a6c68",
   "metadata": {},
   "outputs": [
    {
     "data": {
      "text/plain": [
       "array([[1, 2, 3],\n",
       "       [4, 5, 6],\n",
       "       [7, 8, 9]])"
      ]
     },
     "execution_count": 39,
     "metadata": {},
     "output_type": "execute_result"
    }
   ],
   "source": [
    "reshape = arr.reshape((3, 3))\n",
    "reshape"
   ]
  },
  {
   "cell_type": "code",
   "execution_count": 41,
   "id": "378bc190-11e7-4cc7-88d0-84950b58542b",
   "metadata": {},
   "outputs": [
    {
     "data": {
      "text/plain": [
       "array([0. , 0.2, 0.4, 0.6, 0.8, 1. ])"
      ]
     },
     "execution_count": 41,
     "metadata": {},
     "output_type": "execute_result"
    }
   ],
   "source": [
    "# Problem 2: Create an Array with Evenly Spaced Floats\n",
    "arr2 = np.linspace(0, 1, 6)\n",
    "arr2"
   ]
  },
  {
   "cell_type": "code",
   "execution_count": 42,
   "id": "746453e7-dfd1-4ebc-9f13-931f035f36f7",
   "metadata": {},
   "outputs": [
    {
     "name": "stdout",
     "output_type": "stream",
     "text": [
      "[[0.50708928 0.13978718]\n",
      " [0.61270939 0.28285401]\n",
      " [0.13040264 0.31784316]\n",
      " [0.25387392 0.75028697]]\n"
     ]
    }
   ],
   "source": [
    "# Problem 3: Create a 2D Array of Random Floats\n",
    "# Create a 4x2 NumPy array with random float numbers between 0 and 1.\n",
    "import numpy as np\n",
    "\n",
    "array = np.random.rand(4, 2)\n",
    "print(array)\n",
    "\n"
   ]
  },
  {
   "cell_type": "code",
   "execution_count": 44,
   "id": "208aafa6-c910-4214-978e-f88284a44496",
   "metadata": {},
   "outputs": [
    {
     "data": {
      "text/plain": [
       "array([1., 2., 3., 4.])"
      ]
     },
     "execution_count": 44,
     "metadata": {},
     "output_type": "execute_result"
    }
   ],
   "source": [
    "# problem 4 Create a 1D NumPy array with the values [1, 2, 3, 4], but make sure the data type is float.\n",
    "arr4 = np.array([1, 2, 3, 4], 'float')\n",
    "arr4"
   ]
  },
  {
   "cell_type": "code",
   "execution_count": 48,
   "id": "10885544-3379-44cf-aea4-de16c8a4be9b",
   "metadata": {},
   "outputs": [
    {
     "data": {
      "text/plain": [
       "array([[ 0,  1,  2,  3],\n",
       "       [ 4,  5,  6,  7],\n",
       "       [ 8,  9, 10, 11]])"
      ]
     },
     "execution_count": 48,
     "metadata": {},
     "output_type": "execute_result"
    }
   ],
   "source": [
    "# problem 5 Create a 1D NumPy array from 0 to 11 and reshape it into a 3x4 matrix.\n",
    "arr5 = np.arange(0, 12)\n",
    "reshape = arr5.reshape(3, 4)\n",
    "reshape"
   ]
  }
 ],
 "metadata": {
  "kernelspec": {
   "display_name": "Python [conda env:base] *",
   "language": "python",
   "name": "conda-base-py"
  },
  "language_info": {
   "codemirror_mode": {
    "name": "ipython",
    "version": 3
   },
   "file_extension": ".py",
   "mimetype": "text/x-python",
   "name": "python",
   "nbconvert_exporter": "python",
   "pygments_lexer": "ipython3",
   "version": "3.12.7"
  }
 },
 "nbformat": 4,
 "nbformat_minor": 5
}
