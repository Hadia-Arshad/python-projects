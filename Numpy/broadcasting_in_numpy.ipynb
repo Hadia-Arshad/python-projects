{
 "cells": [
  {
   "cell_type": "code",
   "execution_count": 2,
   "id": "52aa3c7b-5d94-4607-8349-5b421b55b2a4",
   "metadata": {},
   "outputs": [
    {
     "name": "stdout",
     "output_type": "stream",
     "text": [
      "[ 1  4  9 16 25]\n"
     ]
    }
   ],
   "source": [
    "import numpy as np\n",
    "# vectorization: fixing the looping problem\n",
    "arr = np.array([1, 2, 3, 4, 5])\n",
    "result = arr ** 2  # Vectorized operation\n",
    "print(result)  # Output: [1 4 9 16 25]"
   ]
  },
  {
   "cell_type": "code",
   "execution_count": 3,
   "id": "72a8cdcf-b609-429b-980d-994ad2ad7075",
   "metadata": {},
   "outputs": [
    {
     "data": {
      "text/plain": [
       "array([ 1,  4,  9, 16, 25])"
      ]
     },
     "execution_count": 3,
     "metadata": {},
     "output_type": "execute_result"
    }
   ],
   "source": [
    "#broadcasting: scaling arrays without extra momery\n",
    "result + 10 #here 10 is scalar\n",
    "result"
   ]
  },
  {
   "cell_type": "code",
   "execution_count": 4,
   "id": "05621b6c-e177-447e-8a9c-5480176b969c",
   "metadata": {},
   "outputs": [
    {
     "data": {
      "text/plain": [
       "array([21, 32, 43])"
      ]
     },
     "execution_count": 4,
     "metadata": {},
     "output_type": "execute_result"
    }
   ],
   "source": [
    "#broadcasting with two arrays\n",
    "arr1 = np.array([1, 2, 3])\n",
    "arr2 = np.array([20, 30, 40])\n",
    "result = arr1 + arr2 #numpy allows two arrays to perform element wise adition as the have same shape\n",
    "result"
   ]
  },
  {
   "cell_type": "code",
   "execution_count": 7,
   "id": "d0830f46-68bd-4403-8e31-bc3a5186a561",
   "metadata": {},
   "outputs": [
    {
     "data": {
      "text/plain": [
       "array([[ 8, 10, 12],\n",
       "       [11, 13, 15]])"
      ]
     },
     "execution_count": 7,
     "metadata": {},
     "output_type": "execute_result"
    }
   ],
   "source": [
    "#broadcasting 2D array and 1D array\n",
    "arr1 = np.array([[1, 2, 3],[4, 5, 6]])\n",
    "arr2 = np.array([7, 8, 9])\n",
    "result = arr1 + arr2 #broadcasting array 1 across array2\n",
    "result"
   ]
  },
  {
   "cell_type": "markdown",
   "id": "0d58f751-5f18-4aca-9a85-b649aa50b2bf",
   "metadata": {},
   "source": [
    "Example: Normalizing Data Using Broadcasting\n",
    "Imagine you have a dataset where each row represents a sample and each column represents a feature. You can normalize the data by subtracting the mean of each column and dividing by the standard deviation."
   ]
  },
  {
   "cell_type": "code",
   "execution_count": 10,
   "id": "4495e15e-2538-4f1a-aa81-b16a712e5202",
   "metadata": {},
   "outputs": [
    {
     "name": "stdout",
     "output_type": "stream",
     "text": [
      "[[-1.41421356 -1.41421356 -1.41421356]\n",
      " [-0.70710678 -0.70710678 -0.70710678]\n",
      " [ 0.          0.          0.        ]\n",
      " [ 0.70710678  0.70710678  0.70710678]\n",
      " [ 1.41421356  1.41421356  1.41421356]]\n"
     ]
    }
   ],
   "source": [
    "# Simulating a dataset (5 samples, 3 features)\n",
    "data = np.array([[10, 20, 30],\n",
    "                 [15, 25, 35],\n",
    "                 [20, 30, 40],\n",
    "                 [25, 35, 45],\n",
    "                 [30, 40, 50]])\n",
    "\n",
    "# Calculating mean and standard deviation for each feature (column)\n",
    "mean = data.mean(axis=0)\n",
    "std = data.std(axis=0)\n",
    "\n",
    "# Normalizing the data using broadcasting\n",
    "normalized_data = (data - mean) / std\n",
    "\n",
    "print(normalized_data)"
   ]
  },
  {
   "cell_type": "code",
   "execution_count": 16,
   "id": "8a345453-6239-4813-ba08-502e2d592046",
   "metadata": {},
   "outputs": [
    {
     "data": {
      "text/plain": [
       "array([[ 2,  2,  2,  6],\n",
       "       [ 6,  6,  6, 10],\n",
       "       [10, 10, 10, 14]])"
      ]
     },
     "execution_count": 16,
     "metadata": {},
     "output_type": "execute_result"
    }
   ],
   "source": [
    "#problem 1 Given a 2D array A of shape (3, 4) and a 1D array b of shape (4,), add b to each row of A using broadcasting.\n",
    "import numpy as np\n",
    "A = np.array([[1, 2, 3, 4],\n",
    "              [5, 6, 7, 8],\n",
    "              [9, 10, 11, 12]])\n",
    "b = np.array([1, 0, -1, 2])\n",
    "result = A+b\n",
    "result"
   ]
  },
  {
   "cell_type": "code",
   "execution_count": 17,
   "id": "e674f224-0fac-4fa0-adbe-b0bcddc2598f",
   "metadata": {},
   "outputs": [
    {
     "data": {
      "text/plain": [
       "array([[1, 2, 3],\n",
       "       [4, 5, 6],\n",
       "       [7, 8, 9]])"
      ]
     },
     "execution_count": 17,
     "metadata": {},
     "output_type": "execute_result"
    }
   ],
   "source": [
    "#problem 2: Multiply a 1D column vector with each column of a 2D matrix using broadcasting.\n",
    "A = np.array([[1, 2, 3],\n",
    "              [4, 5, 6],\n",
    "              [7, 8, 9]])\n",
    "v = np.array([[1], [2], [3]])  # Shape: (3,1)\n",
    "A"
   ]
  },
  {
   "cell_type": "code",
   "execution_count": 19,
   "id": "80e7f7f0-19d1-4307-8fc8-a870b78c9576",
   "metadata": {},
   "outputs": [
    {
     "data": {
      "text/plain": [
       "array([[1],\n",
       "       [2],\n",
       "       [3]])"
      ]
     },
     "execution_count": 19,
     "metadata": {},
     "output_type": "execute_result"
    }
   ],
   "source": [
    "v"
   ]
  },
  {
   "cell_type": "code",
   "execution_count": 20,
   "id": "8aa27d71-02b3-45cb-80ca-def9442fd060",
   "metadata": {},
   "outputs": [
    {
     "data": {
      "text/plain": [
       "array([[ 1,  2,  3],\n",
       "       [ 8, 10, 12],\n",
       "       [21, 24, 27]])"
      ]
     },
     "execution_count": 20,
     "metadata": {},
     "output_type": "execute_result"
    }
   ],
   "source": [
    "product = A*v\n",
    "product"
   ]
  },
  {
   "cell_type": "code",
   "execution_count": 26,
   "id": "b1a47f2e-e207-4839-9160-80d63101f186",
   "metadata": {},
   "outputs": [
    {
     "data": {
      "text/plain": [
       "array([[10.],\n",
       "       [ 4.]])"
      ]
     },
     "execution_count": 26,
     "metadata": {},
     "output_type": "execute_result"
    }
   ],
   "source": [
    "#problem 3 Given a 2D array, subtract the mean of each row from the row using broadcasting.\n",
    "A = np.array([[5, 10, 15],\n",
    "              [2, 4, 6]])\n",
    "row_mean = np.mean(A, axis=1, keepdims=True)\n",
    "row_mean"
   ]
  },
  {
   "cell_type": "code",
   "execution_count": 27,
   "id": "f9a59cb9-efc1-4a3f-a81e-4ce81beb4ce8",
   "metadata": {},
   "outputs": [
    {
     "data": {
      "text/plain": [
       "array([[-5.,  0.,  5.],\n",
       "       [-2.,  0.,  2.]])"
      ]
     },
     "execution_count": 27,
     "metadata": {},
     "output_type": "execute_result"
    }
   ],
   "source": [
    "result = A-row_mean\n",
    "result"
   ]
  },
  {
   "cell_type": "code",
   "execution_count": 28,
   "id": "5a59ce51-e1d6-47ca-b4ae-8582f1062c48",
   "metadata": {},
   "outputs": [
    {
     "data": {
      "text/plain": [
       "array([[[ 11,  19,  35],\n",
       "        [ 41,  49,  65]],\n",
       "\n",
       "       [[ 71,  79,  95],\n",
       "        [101, 109, 125]]])"
      ]
     },
     "execution_count": 28,
     "metadata": {},
     "output_type": "execute_result"
    }
   ],
   "source": [
    "#problem 4: Simulate a 3D RGB image of shape (2, 2, 3) and add a specific value to each color channel (R, G, B) using broadcasting.\n",
    "image = np.array([[[10, 20, 30],\n",
    "                   [40, 50, 60]],\n",
    "                  \n",
    "                  [[70, 80, 90],\n",
    "                   [100, 110, 120]]])  # Shape: (2, 2, 3)\n",
    "\n",
    "add_values = np.array([1, -1, 5])  # Add to RGB\n",
    "result = image+add_values\n",
    "result"
   ]
  },
  {
   "cell_type": "code",
   "execution_count": 37,
   "id": "26ae273d-96c8-4f8b-8d17-a724437d693c",
   "metadata": {},
   "outputs": [
    {
     "data": {
      "text/plain": [
       "array([[4., 5., 6.]])"
      ]
     },
     "execution_count": 37,
     "metadata": {},
     "output_type": "execute_result"
    }
   ],
   "source": [
    "#problem 5: Given a 2D array, subtract the mean of each column and divide by its standard deviation using broadcasting.\n",
    "A = np.array([[1, 2, 3],\n",
    "              [4, 5, 6],\n",
    "              [7, 8, 9]])\n",
    "mean = np.mean(A, axis=0, keepdims=True)\n",
    "mean"
   ]
  },
  {
   "cell_type": "code",
   "execution_count": 38,
   "id": "ee9599b4-dc6c-4df5-8380-f9db2d1000a2",
   "metadata": {},
   "outputs": [
    {
     "data": {
      "text/plain": [
       "array([[2.44948974, 2.44948974, 2.44948974]])"
      ]
     },
     "execution_count": 38,
     "metadata": {},
     "output_type": "execute_result"
    }
   ],
   "source": [
    "std = np.std(A, axis=0, keepdims=True)\n",
    "std"
   ]
  },
  {
   "cell_type": "code",
   "execution_count": 39,
   "id": "81a844ee-3b22-4175-aa1e-0ddd547758b8",
   "metadata": {},
   "outputs": [
    {
     "data": {
      "text/plain": [
       "array([[-1.22474487, -1.22474487, -1.22474487],\n",
       "       [ 0.        ,  0.        ,  0.        ],\n",
       "       [ 1.22474487,  1.22474487,  1.22474487]])"
      ]
     },
     "execution_count": 39,
     "metadata": {},
     "output_type": "execute_result"
    }
   ],
   "source": [
    "result = (A-mean)/std\n",
    "result"
   ]
  },
  {
   "cell_type": "code",
   "execution_count": null,
   "id": "b704ba4d-0de3-46a1-88cf-b2030a338025",
   "metadata": {},
   "outputs": [],
   "source": []
  }
 ],
 "metadata": {
  "kernelspec": {
   "display_name": "Python [conda env:base] *",
   "language": "python",
   "name": "conda-base-py"
  },
  "language_info": {
   "codemirror_mode": {
    "name": "ipython",
    "version": 3
   },
   "file_extension": ".py",
   "mimetype": "text/x-python",
   "name": "python",
   "nbconvert_exporter": "python",
   "pygments_lexer": "ipython3",
   "version": "3.12.7"
  }
 },
 "nbformat": 4,
 "nbformat_minor": 5
}
