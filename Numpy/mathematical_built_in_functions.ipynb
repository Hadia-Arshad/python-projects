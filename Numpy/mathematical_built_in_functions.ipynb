{
 "cells": [
  {
   "cell_type": "code",
   "execution_count": 1,
   "id": "a2c33169-4b55-48cf-af6a-73cbffa417da",
   "metadata": {},
   "outputs": [
    {
     "data": {
      "text/plain": [
       "array([1, 2, 3, 4])"
      ]
     },
     "execution_count": 1,
     "metadata": {},
     "output_type": "execute_result"
    }
   ],
   "source": [
    "import numpy as np\n",
    "arr = np.array([1, 2, 3, 4])\n",
    "arr"
   ]
  },
  {
   "cell_type": "code",
   "execution_count": 2,
   "id": "50fbe4e4-33ea-4b04-902b-09a79813e3b6",
   "metadata": {},
   "outputs": [
    {
     "data": {
      "text/plain": [
       "2.5"
      ]
     },
     "execution_count": 2,
     "metadata": {},
     "output_type": "execute_result"
    }
   ],
   "source": [
    "np.mean(arr)# to find the mean"
   ]
  },
  {
   "cell_type": "code",
   "execution_count": 4,
   "id": "a42f2362-fd48-4195-926e-5680b68ce514",
   "metadata": {},
   "outputs": [
    {
     "data": {
      "text/plain": [
       "4"
      ]
     },
     "execution_count": 4,
     "metadata": {},
     "output_type": "execute_result"
    }
   ],
   "source": [
    "np.max(arr) #to find the maximum value"
   ]
  },
  {
   "cell_type": "code",
   "execution_count": 5,
   "id": "b483a181-8a2c-4972-85d8-fa03f822a14c",
   "metadata": {},
   "outputs": [
    {
     "data": {
      "text/plain": [
       "1"
      ]
     },
     "execution_count": 5,
     "metadata": {},
     "output_type": "execute_result"
    }
   ],
   "source": [
    "np.min(arr) # to find the minimum value"
   ]
  },
  {
   "cell_type": "code",
   "execution_count": 6,
   "id": "8a7b6e44-0243-4730-935d-da06b7a828b1",
   "metadata": {},
   "outputs": [
    {
     "data": {
      "text/plain": [
       "1.118033988749895"
      ]
     },
     "execution_count": 6,
     "metadata": {},
     "output_type": "execute_result"
    }
   ],
   "source": [
    "np.std(arr) #to find standard deviation"
   ]
  },
  {
   "cell_type": "code",
   "execution_count": 7,
   "id": "d400f133-40a6-441d-b23a-2cc5d886d8d9",
   "metadata": {},
   "outputs": [
    {
     "data": {
      "text/plain": [
       "1.25"
      ]
     },
     "execution_count": 7,
     "metadata": {},
     "output_type": "execute_result"
    }
   ],
   "source": [
    "np.var(arr) # to find the variance"
   ]
  },
  {
   "cell_type": "code",
   "execution_count": 8,
   "id": "96ff5199-9c8c-40e9-a44b-84a4ca1c8410",
   "metadata": {},
   "outputs": [
    {
     "data": {
      "text/plain": [
       "10"
      ]
     },
     "execution_count": 8,
     "metadata": {},
     "output_type": "execute_result"
    }
   ],
   "source": [
    "np.sum(arr)# to find sum of all elements"
   ]
  },
  {
   "cell_type": "code",
   "execution_count": 9,
   "id": "1348319d-5dc5-4860-a2c6-068be829c235",
   "metadata": {},
   "outputs": [
    {
     "data": {
      "text/plain": [
       "24"
      ]
     },
     "execution_count": 9,
     "metadata": {},
     "output_type": "execute_result"
    }
   ],
   "source": [
    "np.prod(arr)#to find the product of all elemnets"
   ]
  },
  {
   "cell_type": "code",
   "execution_count": 10,
   "id": "d57be99c-fb5d-40b5-9f15-12f1da993ae0",
   "metadata": {},
   "outputs": [
    {
     "data": {
      "text/plain": [
       "2.5"
      ]
     },
     "execution_count": 10,
     "metadata": {},
     "output_type": "execute_result"
    }
   ],
   "source": [
    "np.median(arr)"
   ]
  },
  {
   "cell_type": "code",
   "execution_count": 11,
   "id": "c8346ead-b441-46e5-803d-10a79629ddc5",
   "metadata": {},
   "outputs": [
    {
     "data": {
      "text/plain": [
       "1.0"
      ]
     },
     "execution_count": 11,
     "metadata": {},
     "output_type": "execute_result"
    }
   ],
   "source": [
    "np.percentile(arr, 0)"
   ]
  },
  {
   "cell_type": "code",
   "execution_count": 12,
   "id": "0d8a1e92-57b3-4bfb-be00-e86759fb100d",
   "metadata": {},
   "outputs": [
    {
     "data": {
      "text/plain": [
       "0"
      ]
     },
     "execution_count": 12,
     "metadata": {},
     "output_type": "execute_result"
    }
   ],
   "source": [
    "np.argmin(arr) #which index has smallest element"
   ]
  },
  {
   "cell_type": "code",
   "execution_count": 13,
   "id": "9880f009-fbd7-4747-9a71-c6590e3ab7f3",
   "metadata": {},
   "outputs": [
    {
     "data": {
      "text/plain": [
       "3"
      ]
     },
     "execution_count": 13,
     "metadata": {},
     "output_type": "execute_result"
    }
   ],
   "source": [
    "np.argmax(arr)# which index has largest element"
   ]
  },
  {
   "cell_type": "code",
   "execution_count": 14,
   "id": "3f7574d6-b7e5-40b6-8612-5befd4194870",
   "metadata": {},
   "outputs": [
    {
     "data": {
      "text/plain": [
       "array([1, 2, 3, 4, 5])"
      ]
     },
     "execution_count": 14,
     "metadata": {},
     "output_type": "execute_result"
    }
   ],
   "source": [
    "arr1 = np.array([1, 2, 4, 5, 2, 4, 3])\n",
    "np.unique(arr1) # gives uniques elements no duplicate"
   ]
  },
  {
   "cell_type": "code",
   "execution_count": 17,
   "id": "26467ffc-d1af-457c-a0cb-a52fadab9ace",
   "metadata": {},
   "outputs": [
    {
     "data": {
      "text/plain": [
       "array([1, 2, 3, 4])"
      ]
     },
     "execution_count": 17,
     "metadata": {},
     "output_type": "execute_result"
    }
   ],
   "source": [
    "arr"
   ]
  },
  {
   "cell_type": "code",
   "execution_count": 15,
   "id": "bd457630-cea4-4848-bfac-60ac2d615f40",
   "metadata": {},
   "outputs": [
    {
     "data": {
      "text/plain": [
       "array([1, 1, 1])"
      ]
     },
     "execution_count": 15,
     "metadata": {},
     "output_type": "execute_result"
    }
   ],
   "source": [
    "np.diff(arr) #difference between all elements"
   ]
  },
  {
   "cell_type": "code",
   "execution_count": 16,
   "id": "54ec3eb8-dd20-4f69-8156-940e71ace07e",
   "metadata": {},
   "outputs": [
    {
     "data": {
      "text/plain": [
       "array([ 1,  3,  6, 10])"
      ]
     },
     "execution_count": 16,
     "metadata": {},
     "output_type": "execute_result"
    }
   ],
   "source": [
    "np.cumsum(arr) #cumulative sum(1, 1+2=3, 3+3=6, 6+4=10)"
   ]
  },
  {
   "cell_type": "code",
   "execution_count": 18,
   "id": "99319c3f-82f0-42fa-976c-f9e5c40ce5da",
   "metadata": {},
   "outputs": [
    {
     "data": {
      "text/plain": [
       "array([ 1.  ,  3.25,  5.5 ,  7.75, 10.  ])"
      ]
     },
     "execution_count": 18,
     "metadata": {},
     "output_type": "execute_result"
    }
   ],
   "source": [
    "np.linspace(1, 10, 5)#create array of evenly spaced numbers"
   ]
  },
  {
   "cell_type": "code",
   "execution_count": 19,
   "id": "17a512f1-6f47-4cc7-af40-4485cd7f52f7",
   "metadata": {},
   "outputs": [
    {
     "data": {
      "text/plain": [
       "array([0.        , 0.69314718, 1.09861229, 1.38629436])"
      ]
     },
     "execution_count": 19,
     "metadata": {},
     "output_type": "execute_result"
    }
   ],
   "source": [
    "np.log(arr) # to find the log "
   ]
  },
  {
   "cell_type": "code",
   "execution_count": 20,
   "id": "1c919e09-9a24-4594-85e1-89a1962906e8",
   "metadata": {},
   "outputs": [
    {
     "data": {
      "text/plain": [
       "array([ 2.71828183,  7.3890561 , 20.08553692, 54.59815003])"
      ]
     },
     "execution_count": 20,
     "metadata": {},
     "output_type": "execute_result"
    }
   ],
   "source": [
    "np.exp(arr)# to find the exponential"
   ]
  },
  {
   "cell_type": "code",
   "execution_count": 5,
   "id": "66f97bb2-248f-4fa0-93f9-8b7a8fa5cbba",
   "metadata": {},
   "outputs": [
    {
     "name": "stdout",
     "output_type": "stream",
     "text": [
      "[ 6 15 24]\n",
      "[2. 5. 8.]\n"
     ]
    }
   ],
   "source": [
    "#problem 1: Given a 2D array, compute the sum and mean of each row.\n",
    "import numpy as np\n",
    "A = np.array([[1, 2, 3],\n",
    "              [4, 5, 6],\n",
    "              [7, 8, 9]])\n",
    "sum = np.sum(A, axis=1,)\n",
    "print(sum)\n",
    "mean = np.mean(A, axis=1)\n",
    "print(mean)"
   ]
  },
  {
   "cell_type": "code",
   "execution_count": 7,
   "id": "253c5998-a310-42e3-8cc3-ba3f9b40c08f",
   "metadata": {},
   "outputs": [
    {
     "name": "stdout",
     "output_type": "stream",
     "text": [
      "[2.71828183e+00 5.45981500e+01 8.10308393e+03 8.88611052e+06]\n",
      "[1. 2. 3. 4.]\n"
     ]
    }
   ],
   "source": [
    "#problem 2:Given an array, compute the element-wise exponential and square root of the elements. \n",
    "arr = np.array([1, 4, 9, 16])\n",
    "exponential = np.exp(arr)\n",
    "print(exponential)\n",
    "square = np.sqrt(arr)\n",
    "print(square)"
   ]
  },
  {
   "cell_type": "code",
   "execution_count": 8,
   "id": "1b0215e3-5eca-4af2-9bcc-12459b8adcee",
   "metadata": {},
   "outputs": [
    {
     "name": "stdout",
     "output_type": "stream",
     "text": [
      "[ 1  3  6 10]\n",
      "[ 1  2  6 24]\n"
     ]
    }
   ],
   "source": [
    "#problem 3: Cumulative Sum and Product\n",
    "arr = np.array([1, 2, 3, 4])\n",
    "cumulative_sum = np.cumsum(arr)\n",
    "print(cumulative_sum)\n",
    "cumulative_product = np.cumprod(arr)\n",
    "print(cumulative_product)"
   ]
  },
  {
   "cell_type": "code",
   "execution_count": 9,
   "id": "d70d8bc8-bb8b-43f2-83d5-534aa83c9f7c",
   "metadata": {},
   "outputs": [
    {
     "name": "stdout",
     "output_type": "stream",
     "text": [
      "[0.         0.52359878 0.78539816 1.04719755 1.57079633]\n",
      "[0.         0.5        0.70710678 0.8660254  1.        ]\n"
     ]
    }
   ],
   "source": [
    "#problem 4: Given angles in degrees, compute the sine of each angle.\n",
    "import numpy as np\n",
    "\n",
    "angles_deg = np.array([0, 30, 45, 60, 90])\n",
    "\n",
    "# Step 1: Convert degrees to radians\n",
    "angles_rad = np.radians(angles_deg)\n",
    "\n",
    "# Step 2: Compute the sine of each angle\n",
    "sine_values = np.sin(angles_rad)\n",
    "print(angles_rad)\n",
    "print(sine_values)\n"
   ]
  },
  {
   "cell_type": "markdown",
   "id": "69404db3-053d-4257-9dd8-a70cd4da4c9f",
   "metadata": {},
   "source": [
    "#problem 5: Given a 1D NumPy array of test scores, perform z-score normalization — that is, subtract the mean and divide by the standard deviation.\n",
    "Z-score normalization (also called standardization) is a way to transform data so that:\n",
    "1-The mean becomes 0\n",
    "2-The standard deviation becomes 1\n",
    "formula:\n",
    "z-score =(original value - mean)/ standard deviation"
   ]
  },
  {
   "cell_type": "code",
   "execution_count": 12,
   "id": "dd980833-04e5-46de-8b6a-42a4b924dccd",
   "metadata": {},
   "outputs": [
    {
     "data": {
      "text/plain": [
       "array([-1.44913767, -0.08050765,  1.28812238, -0.64406119,  0.40253824,\n",
       "        1.36863003, -0.88558413])"
      ]
     },
     "execution_count": 12,
     "metadata": {},
     "output_type": "execute_result"
    }
   ],
   "source": [
    "import numpy as np\n",
    "scores = np.array([55, 72, 89, 65, 78, 90, 62])\n",
    "mean = np.mean(scores)\n",
    "std = np.std(scores)\n",
    "z_score = (scores - mean)/std\n",
    "z_score\n"
   ]
  },
  {
   "cell_type": "code",
   "execution_count": null,
   "id": "5dcec97c-cfda-46d7-8b6f-a1f08c913e85",
   "metadata": {},
   "outputs": [],
   "source": []
  },
  {
   "cell_type": "code",
   "execution_count": null,
   "id": "17a06964-4537-4acc-a0b0-11965e1b20d7",
   "metadata": {},
   "outputs": [],
   "source": []
  }
 ],
 "metadata": {
  "kernelspec": {
   "display_name": "Python [conda env:base] *",
   "language": "python",
   "name": "conda-base-py"
  },
  "language_info": {
   "codemirror_mode": {
    "name": "ipython",
    "version": 3
   },
   "file_extension": ".py",
   "mimetype": "text/x-python",
   "name": "python",
   "nbconvert_exporter": "python",
   "pygments_lexer": "ipython3",
   "version": "3.12.7"
  }
 },
 "nbformat": 4,
 "nbformat_minor": 5
}
